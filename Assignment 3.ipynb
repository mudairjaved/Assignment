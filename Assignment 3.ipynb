{
 "cells": [
  {
   "cell_type": "code",
   "execution_count": 1,
   "id": "377f8eed",
   "metadata": {},
   "outputs": [
    {
     "name": "stdout",
     "output_type": "stream",
     "text": [
      "Twinkle, twinkle, little star,\n",
      "\tHow I wonder what you are!\n",
      "\t\tUp above the world so high,\n",
      "\t\tLike a diamond in the sky.\n",
      "Twinkle, twinkle, little star,\n",
      "\tHow I wonder what you are\n"
     ]
    }
   ],
   "source": [
    "print(\"Twinkle, twinkle, little star,\\n\\tHow I wonder what you are!\\n\\t\\tUp above the world so high,\\n\\t\\tLike a diamond in the sky.\\nTwinkle, twinkle, little star,\\n\\tHow I wonder what you are\")"
   ]
  },
  {
   "cell_type": "code",
   "execution_count": 2,
   "id": "b3a254a4",
   "metadata": {},
   "outputs": [
    {
     "name": "stdout",
     "output_type": "stream",
     "text": [
      "3.8.8 (default, Apr 13 2021, 15:08:03) [MSC v.1916 64 bit (AMD64)]\n"
     ]
    }
   ],
   "source": [
    "import sys\n",
    "print(sys.version)"
   ]
  },
  {
   "cell_type": "code",
   "execution_count": 3,
   "id": "8296a426",
   "metadata": {},
   "outputs": [
    {
     "name": "stdout",
     "output_type": "stream",
     "text": [
      "Current Data and Time:\n",
      "2021-10-24 01:33:12.163548\n"
     ]
    }
   ],
   "source": [
    "import datetime\n",
    "print(\"Current Data and Time:\")\n",
    "print(datetime.datetime.now())"
   ]
  },
  {
   "cell_type": "code",
   "execution_count": 16,
   "id": "7289b83e",
   "metadata": {},
   "outputs": [
    {
     "name": "stdout",
     "output_type": "stream",
     "text": [
      "Enter the Radius of the Circle\n",
      "45\n",
      "The Area of Circle = 6358.5\n"
     ]
    }
   ],
   "source": [
    "radius=float(input(\"Enter the Radius of the Circle\\n\"))\n",
    "area=3.14*radius**2\n",
    "print(\"The Area of Circle =\",area)"
   ]
  },
  {
   "cell_type": "code",
   "execution_count": 25,
   "id": "b09a62d0",
   "metadata": {},
   "outputs": [
    {
     "name": "stdout",
     "output_type": "stream",
     "text": [
      "Enter your First Name\n",
      "Mudasir\n",
      "Enter your Second Name\n",
      "Javed\n",
      "risaduM\n",
      "devaJ\n"
     ]
    }
   ],
   "source": [
    "first=input(\"Enter your First Name\\n\")\n",
    "last=input(\"Enter your Second Name\\n\")\n",
    "print(first[::-1])\n",
    "print(last[::-1])"
   ]
  },
  {
   "cell_type": "code",
   "execution_count": 22,
   "id": "08f6f783",
   "metadata": {},
   "outputs": [
    {
     "name": "stdout",
     "output_type": "stream",
     "text": [
      "Enter the First Value\n",
      "14\n",
      "Enter the Second Value\n",
      "15\n",
      "The Addition = 29\n"
     ]
    }
   ],
   "source": [
    "value1=int(input(\"Enter the First Value\\n\"))\n",
    "value2=int(input(\"Enter the Second Value\\n\"))\n",
    "addition=value1+value2\n",
    "print(\"The Addition =\",addition)\n"
   ]
  },
  {
   "cell_type": "code",
   "execution_count": 21,
   "id": "7e3d122b",
   "metadata": {},
   "outputs": [
    {
     "name": "stdout",
     "output_type": "stream",
     "text": [
      "-----------<Welcome to the Marksheet>-----------\n",
      "Enter Your English Marks\n",
      "78\n",
      "Enter Your Urdu Marks\n",
      "82\n",
      "Enter Your Maths Marks\n",
      "90\n",
      "Enter Yoru Chemistry Marks\n",
      "85\n",
      "Enter Your Physics Marks\n",
      "78\n",
      "You Got percentage 82.6 %\n",
      "You Got A+ Grade\n"
     ]
    }
   ],
   "source": [
    "print(\"-----------<Welcome to the Marksheet>-----------\")\n",
    "english=int(input(\"Enter Your English Marks\\n\"))\n",
    "urdu=int(input(\"Enter Your Urdu Marks\\n\"))\n",
    "maths=int(input(\"Enter Your Maths Marks\\n\"))\n",
    "chemistry=int(input(\"Enter Yoru Chemistry Marks\\n\"))\n",
    "physics=int(input(\"Enter Your Physics Marks\\n\"))\n",
    "Total = 500\n",
    "add=english+urdu+maths+chemistry+physics\n",
    "Percentage = add/Total*100\n",
    "print(\"You Got percentage\",Percentage,\"%\")\n",
    "\n",
    "if (Percentage<=100 and Percentage>=80):\n",
    "    print(\"You Got A+ Grade\")\n",
    "elif (Percentage<80 and Percentage>=70):\n",
    "    print(\"You Got A Grade\")\n",
    "elif (Percentage<70 and Percentage>=60):\n",
    "    print(\"You Got B Grade\")\n",
    "elif (Percentage<60 and Percentage>=50):\n",
    "    print (\"You Got C Grade\")\n",
    "elif (Percentage<50 and Percentage>=33):\n",
    "    print (\"You Got d Grade\")\n",
    "elif (Percentage<33 and Percentage>=0):\n",
    "    print (\"You Fail\") \n",
    "else:\n",
    "    print (\"Please Enter Your Valid Percentage\")\n",
    "    "
   ]
  },
  {
   "cell_type": "code",
   "execution_count": 20,
   "id": "b7ee64d0",
   "metadata": {},
   "outputs": [
    {
     "name": "stdout",
     "output_type": "stream",
     "text": [
      "Enter the Number\n",
      "14\n",
      "This is an Even Number\n"
     ]
    }
   ],
   "source": [
    "user=int(input(\"Enter the Number\\n\"))\n",
    "if(user%2)==0:\n",
    "    print(\"This is an Even Number\")\n",
    "else:\n",
    "    print(\"This is an Odd Number\")"
   ]
  },
  {
   "cell_type": "code",
   "execution_count": 19,
   "id": "ef7118b0",
   "metadata": {},
   "outputs": [
    {
     "name": "stdout",
     "output_type": "stream",
     "text": [
      "The Length of the list= 9\n"
     ]
    }
   ],
   "source": [
    "lst=[1,2,5,4,8,7,10,504,45]\n",
    "print(\"The Length of the list=\",len(lst))"
   ]
  },
  {
   "cell_type": "code",
   "execution_count": 18,
   "id": "d3b4cc0b",
   "metadata": {},
   "outputs": [
    {
     "name": "stdout",
     "output_type": "stream",
     "text": [
      "4555\n"
     ]
    }
   ],
   "source": [
    "l = ['a',10,'f',45,4500]\n",
    "a= sum(i for i in l if isinstance(i, int) or isinstance(i, int))\n",
    "print(a)"
   ]
  },
  {
   "cell_type": "code",
   "execution_count": 17,
   "id": "2cc0701b",
   "metadata": {},
   "outputs": [
    {
     "name": "stdout",
     "output_type": "stream",
     "text": [
      "The Greater Number = 1000\n"
     ]
    }
   ],
   "source": [
    "lst=[1,20,40,85,1000,100,-101,-1000,78,95,400,2,5]\n",
    "max=lst[0]\n",
    "for i in lst:\n",
    "    if i>max:\n",
    "        max=i\n",
    "print(\"The Greater Number =\",max)"
   ]
  },
  {
   "cell_type": "code",
   "execution_count": 24,
   "id": "e224f3a5",
   "metadata": {},
   "outputs": [
    {
     "name": "stdout",
     "output_type": "stream",
     "text": [
      "1\n",
      "1\n",
      "2\n",
      "3\n",
      "4\n",
      "3\n"
     ]
    }
   ],
   "source": [
    "lst=[1,1,2,3,4,3,5,8,13,21,34,55,89]\n",
    "for i in lst:\n",
    "    if i<5:\n",
    "        print(i)"
   ]
  },
  {
   "cell_type": "code",
   "execution_count": null,
   "id": "d0a69915",
   "metadata": {},
   "outputs": [],
   "source": []
  }
 ],
 "metadata": {
  "kernelspec": {
   "display_name": "Python 3",
   "language": "python",
   "name": "python3"
  },
  "language_info": {
   "codemirror_mode": {
    "name": "ipython",
    "version": 3
   },
   "file_extension": ".py",
   "mimetype": "text/x-python",
   "name": "python",
   "nbconvert_exporter": "python",
   "pygments_lexer": "ipython3",
   "version": "3.8.8"
  }
 },
 "nbformat": 4,
 "nbformat_minor": 5
}
