{
 "cells": [
  {
   "cell_type": "code",
   "execution_count": 5,
   "id": "4b86bc10",
   "metadata": {},
   "outputs": [
    {
     "name": "stdout",
     "output_type": "stream",
     "text": [
      "Enter Your Percentage/n29\n",
      "you fail\n"
     ]
    }
   ],
   "source": [
    "num=int(input(\"Enter Your Percentage/n\"))\n",
    "# num=79\n",
    "if (num<=100 and num>90):\n",
    "    print (\"you got A+ grade\")\n",
    "elif (num<90 and num>=80):\n",
    "    print(\"you got A grade\")\n",
    "elif (num<80 and num>=70):\n",
    "    print (\"you got B+ grade\")\n",
    "elif (num<70 and num>=60):\n",
    "    print (\"you got B grade\")\n",
    "elif (num<60 and num>=50):\n",
    "    print (\"you got C+ grade\")\n",
    "elif (num<50 and num>=33):\n",
    "    print (\"you got D grade\")\n",
    "elif (num<33 and num>=0):\n",
    "    print (\"you fail\")\n",
    "else:\n",
    "    print (\"Please Enter Valid Percentage\")"
   ]
  },
  {
   "cell_type": "code",
   "execution_count": null,
   "id": "7f4b7f2a",
   "metadata": {},
   "outputs": [],
   "source": []
  },
  {
   "cell_type": "code",
   "execution_count": null,
   "id": "9abb9f47",
   "metadata": {},
   "outputs": [],
   "source": []
  }
 ],
 "metadata": {
  "kernelspec": {
   "display_name": "Python 3",
   "language": "python",
   "name": "python3"
  },
  "language_info": {
   "codemirror_mode": {
    "name": "ipython",
    "version": 3
   },
   "file_extension": ".py",
   "mimetype": "text/x-python",
   "name": "python",
   "nbconvert_exporter": "python",
   "pygments_lexer": "ipython3",
   "version": "3.8.8"
  }
 },
 "nbformat": 4,
 "nbformat_minor": 5
}
